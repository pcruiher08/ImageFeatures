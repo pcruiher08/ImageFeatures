{
 "cells": [
  {
   "cell_type": "code",
   "execution_count": 1,
   "metadata": {},
   "outputs": [],
   "source": [
    "def calculate_average_mass(df_row):\n",
    "    sum_of_weights = 0\n",
    "\n",
    "    for i in range(1,len(df_row)):\n",
    "        sum_of_weights += float(df_row[i])\n",
    "        average = sum_of_weights / (len(df_row) - 1)\n",
    "    return \"{:.4f}\".format(average)\n",
    "\n",
    "def rename_image(df_row):\n",
    "    newname = df_row['Image'].replace(\"testname\", \"\")\n",
    "\n",
    "    return newname\n",
    "\n",
    "def get_index(df_row):\n",
    "    return df_row['Image'][:len(df_row['Image']) - 4]"
   ]
  },
  {
   "cell_type": "code",
   "execution_count": 19,
   "metadata": {},
   "outputs": [
    {
     "data": {
      "text/html": [
       "<div>\n",
       "<style scoped>\n",
       "    .dataframe tbody tr th:only-of-type {\n",
       "        vertical-align: middle;\n",
       "    }\n",
       "\n",
       "    .dataframe tbody tr th {\n",
       "        vertical-align: top;\n",
       "    }\n",
       "\n",
       "    .dataframe thead th {\n",
       "        text-align: right;\n",
       "    }\n",
       "</style>\n",
       "<table border=\"1\" class=\"dataframe\">\n",
       "  <thead>\n",
       "    <tr style=\"text-align: right;\">\n",
       "      <th></th>\n",
       "      <th>Image</th>\n",
       "      <th>ID</th>\n",
       "      <th>AverageMass</th>\n",
       "    </tr>\n",
       "  </thead>\n",
       "  <tbody>\n",
       "    <tr>\n",
       "      <th>0</th>\n",
       "      <td>21.jpg</td>\n",
       "      <td>21</td>\n",
       "      <td>10.2444</td>\n",
       "    </tr>\n",
       "    <tr>\n",
       "      <th>1</th>\n",
       "      <td>22.jpg</td>\n",
       "      <td>22</td>\n",
       "      <td>10.2427</td>\n",
       "    </tr>\n",
       "    <tr>\n",
       "      <th>2</th>\n",
       "      <td>23.jpg</td>\n",
       "      <td>23</td>\n",
       "      <td>10.2425</td>\n",
       "    </tr>\n",
       "    <tr>\n",
       "      <th>3</th>\n",
       "      <td>24.jpg</td>\n",
       "      <td>24</td>\n",
       "      <td>10.1629</td>\n",
       "    </tr>\n",
       "    <tr>\n",
       "      <th>4</th>\n",
       "      <td>25.jpg</td>\n",
       "      <td>25</td>\n",
       "      <td>10.1636</td>\n",
       "    </tr>\n",
       "    <tr>\n",
       "      <th>5</th>\n",
       "      <td>26.jpg</td>\n",
       "      <td>26</td>\n",
       "      <td>9.7124</td>\n",
       "    </tr>\n",
       "    <tr>\n",
       "      <th>6</th>\n",
       "      <td>27.jpg</td>\n",
       "      <td>27</td>\n",
       "      <td>9.7125</td>\n",
       "    </tr>\n",
       "    <tr>\n",
       "      <th>7</th>\n",
       "      <td>28.jpg</td>\n",
       "      <td>28</td>\n",
       "      <td>9.8781</td>\n",
       "    </tr>\n",
       "    <tr>\n",
       "      <th>8</th>\n",
       "      <td>29.jpg</td>\n",
       "      <td>29</td>\n",
       "      <td>9.8802</td>\n",
       "    </tr>\n",
       "    <tr>\n",
       "      <th>9</th>\n",
       "      <td>30.jpg</td>\n",
       "      <td>30</td>\n",
       "      <td>9.9806</td>\n",
       "    </tr>\n",
       "  </tbody>\n",
       "</table>\n",
       "</div>"
      ],
      "text/plain": [
       "    Image  ID  AverageMass\n",
       "0  21.jpg  21      10.2444\n",
       "1  22.jpg  22      10.2427\n",
       "2  23.jpg  23      10.2425\n",
       "3  24.jpg  24      10.1629\n",
       "4  25.jpg  25      10.1636\n",
       "5  26.jpg  26       9.7124\n",
       "6  27.jpg  27       9.7125\n",
       "7  28.jpg  28       9.8781\n",
       "8  29.jpg  29       9.8802\n",
       "9  30.jpg  30       9.9806"
      ]
     },
     "execution_count": 19,
     "metadata": {},
     "output_type": "execute_result"
    }
   ],
   "source": [
    "weightsFileName = '/Users/pablo/Documents/Programacion/BlueberriesImageMassDataset/weightsBlueberries.txt'\n",
    "\n",
    "import pandas as pd\n",
    "\n",
    "df = pd.read_csv(weightsFileName, header=None, delim_whitespace=True)\n",
    "\n",
    "df.rename(columns = {0:'Image'}, inplace = True)\n",
    "\n",
    "df['AverageMass'] = df.apply(calculate_average_mass, axis=1)\n",
    "\n",
    "df['Image'] = df.apply(rename_image, axis=1)\n",
    "\n",
    "df['ID'] = df.apply(get_index, axis=1)\n",
    "\n",
    "mass = pd.DataFrame().assign(Image=df['Image'], ID=df['ID'], AverageMass=df['AverageMass'])\n",
    "mass['ID'] = mass['ID'].astype(int)\n",
    "mass['AverageMass'] = mass['AverageMass'].astype(float)\n",
    "#mass.to_json('massBlues.json', orient = 'split', compression = 'infer', index = 'true')\n",
    "mass.head(10)\n",
    "#latex_table = mass.head(10).to_latex(index=False, bold_rows=True, caption=\"Table of image Weighs and Average Mass\")\n",
    "\n",
    "#print(latex_table)\n",
    "\n"
   ]
  },
  {
   "cell_type": "code",
   "execution_count": 36,
   "metadata": {},
   "outputs": [
    {
     "name": "stdout",
     "output_type": "stream",
     "text": [
      "{21: 10.2444, 22: 10.2427, 23: 10.2425, 24: 10.1629, 25: 10.1636, 26: 9.7124, 27: 9.7125, 28: 9.8781, 29: 9.8802, 30: 9.9806, 31: 9.9795, 32: 9.1594, 33: 9.1617, 34: 10.8762, 35: 10.8735, 36: 10.8766, 37: 9.9834, 38: 9.9846, 39: 9.9304, 40: 9.9257, 41: 9.6898, 42: 9.6972, 43: 9.7016, 44: 11.9737, 45: 11.9794, 46: 8.7405, 47: 8.7423, 48: 9.1772, 49: 9.1813, 50: 9.4972, 51: 9.495, 52: 11.0753, 53: 11.0766, 54: 10.27, 55: 10.2695, 56: 11.5706, 57: 11.5745, 59: 8.7329, 60: 8.7356, 61: 10.2567, 62: 10.2568, 63: 10.213, 64: 10.2143, 65: 12.3145, 66: 12.3159, 67: 8.9281, 68: 8.9272, 70: 9.6905, 71: 9.6184, 72: 9.6184, 73: 10.6453, 74: 10.6412, 75: 8.8254, 76: 8.8253, 77: 9.9625, 78: 9.962, 79: 9.4596, 80: 9.4601, 81: 9.4612, 82: 10.532, 83: 10.5355, 84: 9.6529, 85: 9.6556, 86: 9.8557, 87: 9.8554, 88: 9.2088, 89: 9.2059, 90: 10.187, 91: 10.1867, 92: 10.0272, 93: 10.0269, 94: 9.3013, 95: 9.3014, 96: 11.002, 97: 9.5888, 98: 9.5873, 99: 9.7797, 100: 9.7792, 101: 9.6791, 102: 9.6792, 103: 10.6976, 104: 10.6998, 105: 9.6584, 106: 8.9705, 107: 8.9705, 108: 9.7635, 109: 9.7646, 110: 9.1183, 111: 9.1184, 112: 9.4547, 113: 9.4514, 114: 9.5969, 115: 9.5985, 116: 9.0908, 117: 9.0968, 118: 9.2942, 119: 9.2938, 120: 9.8867, 122: 10.264, 123: 10.0444, 124: 10.0465, 125: 9.1023, 126: 9.098, 127: 8.8791, 128: 8.8784, 129: 9.0121, 130: 9.0096, 131: 9.6864, 132: 9.6849, 133: 9.6861, 134: 9.6689, 135: 9.6704, 136: 9.0985, 137: 9.0997, 138: 11.314, 139: 11.2989, 140: 11.8585, 141: 11.864, 142: 8.5324, 143: 8.54, 144: 9.9429, 145: 9.9417, 146: 9.3176, 147: 9.32, 148: 9.1677, 149: 9.1716, 150: 10.1133, 151: 10.1133, 152: 9.2749, 153: 9.2751, 154: 9.872, 155: 9.8664, 156: 9.5092, 157: 9.5135, 158: 9.2888, 159: 9.2894, 160: 8.755, 161: 9.0771, 162: 9.0749, 163: 8.8379, 164: 8.8402, 165: 8.832, 166: 8.8288, 167: 8.896, 168: 8.8938, 169: 8.5255, 170: 8.5194, 171: 7.764, 172: 8.8415, 173: 8.8419}\n",
      "10.2444\n"
     ]
    }
   ],
   "source": [
    "IDAndMass = {}\n",
    "for i in range(len(mass)):\n",
    "    #print(mass.loc[i].at[\"ID\"])\n",
    "    IDAndMass[mass.loc[i].at[\"ID\"]] = mass.loc[i].at[\"AverageMass\"]\n",
    "\n",
    "print(IDAndMass)\n",
    "\n",
    "print(IDAndMass[21])\n"
   ]
  },
  {
   "cell_type": "code",
   "execution_count": 33,
   "metadata": {},
   "outputs": [],
   "source": [
    "import os\n",
    "import glob\n",
    "import cv2 #if you need to preprocess the images\n",
    "import numpy as np\n",
    "import re\n",
    "from PIL import Image\n",
    "from numpy import asarray\n",
    "\n",
    "# Set the paths to your image and label directories\n",
    "image_dir = \"/Users/pablo/Documents/Programacion/BlueberriesImageMassDataset/Blueberries140/train/images\"\n",
    "regexpattern = r\"testname(\\d+)\"\n",
    "\n",
    "imagesdict = {}\n",
    "\n",
    "for image_file in os.listdir(image_dir):\n",
    "    #print(image_file)\n",
    "    if image_file.endswith(\".jpg\"):\n",
    "        image_path = os.path.join(image_dir, image_file)\n",
    "\n",
    "        #image = cv2.imread(image_path)\n",
    "        image = cv2.imread(image_path)\n",
    "\n",
    "        imageID = re.search(regexpattern, image_file).group(0)[8:]\n",
    "        imagesdict[imageID] = image\n",
    "\n",
    "aux = {int(k):v for k,v in imagesdict.items()}\n",
    "imagesdict = aux\n",
    "\n",
    "#print(imagesdict)\n",
    "\n",
    "\n",
    "idimages = list(imagesdict.keys())\n",
    "idimages.sort()\n",
    "sorted_dict = {i: imagesdict[i] for i in idimages}\n",
    "imagesdict = sorted_dict\n",
    "#print(imagesdict)\n",
    "\n",
    "#imagesdf = pd.DataFrame.from_dict(images, orient='index')\n",
    "#imagesdf.head(3)"
   ]
  },
  {
   "cell_type": "code",
   "execution_count": 42,
   "metadata": {},
   "outputs": [],
   "source": [
    "labels = []\n",
    "images = []\n",
    "\n",
    "idmasskeys = list(IDAndMass.keys())\n",
    "\n",
    "for k in idmasskeys:\n",
    "    if(k in IDAndMass and k in imagesdict):\n",
    "        #print(k)\n",
    "        labels.append(IDAndMass[k])\n",
    "        images.append(imagesdict[k])\n",
    "\n",
    "\n",
    "images = np.array(images)\n",
    "labels = np.array(labels)\n"
   ]
  },
  {
   "cell_type": "code",
   "execution_count": 43,
   "metadata": {},
   "outputs": [],
   "source": [
    "\n",
    "train_size = int(0.8 * len(images))\n",
    "train_images, val_images = images[:train_size], images[train_size:]\n",
    "train_labels, val_labels = labels[:train_size], labels[train_size:]"
   ]
  },
  {
   "cell_type": "code",
   "execution_count": 45,
   "metadata": {},
   "outputs": [
    {
     "name": "stdout",
     "output_type": "stream",
     "text": [
      "Epoch 1/25\n"
     ]
    },
    {
     "name": "stderr",
     "output_type": "stream",
     "text": [
      "2023-05-01 03:06:52.137604: I tensorflow/core/grappler/optimizers/custom_graph_optimizer_registry.cc:113] Plugin optimizer for device_type GPU is enabled.\n"
     ]
    },
    {
     "name": "stdout",
     "output_type": "stream",
     "text": [
      "4/4 [==============================] - ETA: 0s - loss: 1140115.3750"
     ]
    },
    {
     "name": "stderr",
     "output_type": "stream",
     "text": [
      "2023-05-01 03:06:58.718855: I tensorflow/core/grappler/optimizers/custom_graph_optimizer_registry.cc:113] Plugin optimizer for device_type GPU is enabled.\n"
     ]
    },
    {
     "name": "stdout",
     "output_type": "stream",
     "text": [
      "4/4 [==============================] - 7s 1s/step - loss: 1140115.3750 - val_loss: 80653.6641\n",
      "Epoch 2/25\n",
      "4/4 [==============================] - 6s 2s/step - loss: 37268.6445 - val_loss: 12046.5947\n",
      "Epoch 3/25\n",
      "4/4 [==============================] - 6s 1s/step - loss: 5141.5864 - val_loss: 3293.7874\n",
      "Epoch 4/25\n",
      "4/4 [==============================] - 6s 2s/step - loss: 1899.2040 - val_loss: 1628.7812\n",
      "Epoch 5/25\n",
      "4/4 [==============================] - 6s 1s/step - loss: 1066.0000 - val_loss: 1323.0422\n",
      "Epoch 6/25\n",
      "4/4 [==============================] - 7s 2s/step - loss: 577.0589 - val_loss: 849.9913\n",
      "Epoch 7/25\n",
      "4/4 [==============================] - 6s 1s/step - loss: 390.6337 - val_loss: 613.4739\n",
      "Epoch 8/25\n",
      "4/4 [==============================] - 15s 4s/step - loss: 358.6425 - val_loss: 201.2167\n",
      "Epoch 9/25\n",
      "4/4 [==============================] - 7s 2s/step - loss: 247.0593 - val_loss: 72.1559\n",
      "Epoch 10/25\n",
      "4/4 [==============================] - 5s 1s/step - loss: 150.9612 - val_loss: 26.5072\n",
      "Epoch 11/25\n",
      "4/4 [==============================] - 5s 1s/step - loss: 42.1441 - val_loss: 66.8067\n",
      "Epoch 12/25\n",
      "4/4 [==============================] - 6s 2s/step - loss: 31.7485 - val_loss: 19.7421\n",
      "Epoch 13/25\n",
      "4/4 [==============================] - 8s 2s/step - loss: 21.6605 - val_loss: 6.0338\n",
      "Epoch 14/25\n",
      "4/4 [==============================] - 6s 2s/step - loss: 5.1890 - val_loss: 12.3067\n",
      "Epoch 15/25\n",
      "4/4 [==============================] - 7s 2s/step - loss: 14.4381 - val_loss: 6.4953\n",
      "Epoch 16/25\n",
      "4/4 [==============================] - 7s 2s/step - loss: 5.6507 - val_loss: 8.6339\n",
      "Epoch 17/25\n",
      "4/4 [==============================] - 7s 2s/step - loss: 6.8044 - val_loss: 4.8831\n",
      "Epoch 18/25\n",
      "4/4 [==============================] - 11s 3s/step - loss: 3.7266 - val_loss: 5.0123\n",
      "Epoch 19/25\n",
      "4/4 [==============================] - 6s 2s/step - loss: 5.1411 - val_loss: 4.0984\n",
      "Epoch 20/25\n",
      "4/4 [==============================] - 5s 1s/step - loss: 3.9470 - val_loss: 5.3778\n",
      "Epoch 21/25\n",
      "4/4 [==============================] - 5s 1s/step - loss: 3.8097 - val_loss: 4.0857\n",
      "Epoch 22/25\n",
      "4/4 [==============================] - 6s 1s/step - loss: 3.8414 - val_loss: 4.2663\n",
      "Epoch 23/25\n",
      "4/4 [==============================] - 5s 1s/step - loss: 3.8827 - val_loss: 4.3446\n",
      "Epoch 24/25\n",
      "4/4 [==============================] - 7s 2s/step - loss: 3.7573 - val_loss: 4.6442\n",
      "Epoch 25/25\n",
      "4/4 [==============================] - 8s 2s/step - loss: 3.6085 - val_loss: 4.0398\n"
     ]
    },
    {
     "data": {
      "text/plain": [
       "<keras.callbacks.History at 0x28aed1550>"
      ]
     },
     "execution_count": 45,
     "metadata": {},
     "output_type": "execute_result"
    }
   ],
   "source": [
    "import tensorflow as tf\n",
    "from tensorflow import keras\n",
    "from tensorflow.keras import layers\n",
    "\n",
    "\n",
    "train_images = train_images / 255.0\n",
    "\n",
    "model = keras.Sequential([\n",
    "    layers.Conv2D(32, kernel_size=(3, 3), activation='relu', input_shape=(512, 512, 3)),\n",
    "    layers.MaxPooling2D(pool_size=(2, 2)),\n",
    "    layers.Conv2D(64, kernel_size=(3, 3), activation='relu'),\n",
    "    layers.MaxPooling2D(pool_size=(2, 2)),\n",
    "    layers.Conv2D(128, kernel_size=(3, 3), activation='relu'),\n",
    "    layers.MaxPooling2D(pool_size=(2, 2)),\n",
    "    layers.Flatten(),\n",
    "    layers.Dense(1)\n",
    "])\n",
    "\n",
    "\n",
    "model.compile(loss='mse', optimizer='adam')\n",
    "\n",
    "model.fit(images, labels, batch_size=32, epochs=25, validation_split=0.2)\n",
    "\n",
    "\n"
   ]
  },
  {
   "cell_type": "code",
   "execution_count": 46,
   "metadata": {},
   "outputs": [
    {
     "ename": "SyntaxError",
     "evalue": "invalid syntax (254169179.py, line 1)",
     "output_type": "error",
     "traceback": [
      "\u001b[0;36m  Cell \u001b[0;32mIn[46], line 1\u001b[0;36m\u001b[0m\n\u001b[0;31m    history* = 0x28aed1550\u001b[0m\n\u001b[0m             ^\u001b[0m\n\u001b[0;31mSyntaxError\u001b[0m\u001b[0;31m:\u001b[0m invalid syntax\n"
     ]
    }
   ],
   "source": [
    "history* = 0x28aed1550\n",
    "\n",
    "print(history)\n"
   ]
  }
 ],
 "metadata": {
  "kernelspec": {
   "display_name": "Python 3",
   "language": "python",
   "name": "python3"
  },
  "language_info": {
   "codemirror_mode": {
    "name": "ipython",
    "version": 3
   },
   "file_extension": ".py",
   "mimetype": "text/x-python",
   "name": "python",
   "nbconvert_exporter": "python",
   "pygments_lexer": "ipython3",
   "version": "3.9.6"
  },
  "orig_nbformat": 4
 },
 "nbformat": 4,
 "nbformat_minor": 2
}
