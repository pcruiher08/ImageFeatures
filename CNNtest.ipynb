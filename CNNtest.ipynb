{
 "cells": [
  {
   "cell_type": "code",
   "execution_count": 1,
   "metadata": {},
   "outputs": [],
   "source": [
    "def calculate_average_mass(df_row):\n",
    "    sum_of_weights = 0\n",
    "\n",
    "    for i in range(1,len(df_row)):\n",
    "        sum_of_weights += float(df_row[i])\n",
    "        average = sum_of_weights / (len(df_row) - 1)\n",
    "    return \"{:.4f}\".format(average)\n",
    "\n",
    "def rename_image(df_row):\n",
    "    newname = df_row['Image'].replace(\"testname\", \"\")\n",
    "\n",
    "    return newname\n",
    "\n",
    "def get_index(df_row):\n",
    "    return df_row['Image'][:len(df_row['Image']) - 4]"
   ]
  },
  {
   "cell_type": "code",
   "execution_count": 19,
   "metadata": {},
   "outputs": [
    {
     "data": {
      "text/html": [
       "<div>\n",
       "<style scoped>\n",
       "    .dataframe tbody tr th:only-of-type {\n",
       "        vertical-align: middle;\n",
       "    }\n",
       "\n",
       "    .dataframe tbody tr th {\n",
       "        vertical-align: top;\n",
       "    }\n",
       "\n",
       "    .dataframe thead th {\n",
       "        text-align: right;\n",
       "    }\n",
       "</style>\n",
       "<table border=\"1\" class=\"dataframe\">\n",
       "  <thead>\n",
       "    <tr style=\"text-align: right;\">\n",
       "      <th></th>\n",
       "      <th>Image</th>\n",
       "      <th>ID</th>\n",
       "      <th>AverageMass</th>\n",
       "    </tr>\n",
       "  </thead>\n",
       "  <tbody>\n",
       "    <tr>\n",
       "      <th>0</th>\n",
       "      <td>21.jpg</td>\n",
       "      <td>21</td>\n",
       "      <td>10.2444</td>\n",
       "    </tr>\n",
       "    <tr>\n",
       "      <th>1</th>\n",
       "      <td>22.jpg</td>\n",
       "      <td>22</td>\n",
       "      <td>10.2427</td>\n",
       "    </tr>\n",
       "    <tr>\n",
       "      <th>2</th>\n",
       "      <td>23.jpg</td>\n",
       "      <td>23</td>\n",
       "      <td>10.2425</td>\n",
       "    </tr>\n",
       "    <tr>\n",
       "      <th>3</th>\n",
       "      <td>24.jpg</td>\n",
       "      <td>24</td>\n",
       "      <td>10.1629</td>\n",
       "    </tr>\n",
       "    <tr>\n",
       "      <th>4</th>\n",
       "      <td>25.jpg</td>\n",
       "      <td>25</td>\n",
       "      <td>10.1636</td>\n",
       "    </tr>\n",
       "    <tr>\n",
       "      <th>5</th>\n",
       "      <td>26.jpg</td>\n",
       "      <td>26</td>\n",
       "      <td>9.7124</td>\n",
       "    </tr>\n",
       "    <tr>\n",
       "      <th>6</th>\n",
       "      <td>27.jpg</td>\n",
       "      <td>27</td>\n",
       "      <td>9.7125</td>\n",
       "    </tr>\n",
       "    <tr>\n",
       "      <th>7</th>\n",
       "      <td>28.jpg</td>\n",
       "      <td>28</td>\n",
       "      <td>9.8781</td>\n",
       "    </tr>\n",
       "    <tr>\n",
       "      <th>8</th>\n",
       "      <td>29.jpg</td>\n",
       "      <td>29</td>\n",
       "      <td>9.8802</td>\n",
       "    </tr>\n",
       "    <tr>\n",
       "      <th>9</th>\n",
       "      <td>30.jpg</td>\n",
       "      <td>30</td>\n",
       "      <td>9.9806</td>\n",
       "    </tr>\n",
       "  </tbody>\n",
       "</table>\n",
       "</div>"
      ],
      "text/plain": [
       "    Image  ID  AverageMass\n",
       "0  21.jpg  21      10.2444\n",
       "1  22.jpg  22      10.2427\n",
       "2  23.jpg  23      10.2425\n",
       "3  24.jpg  24      10.1629\n",
       "4  25.jpg  25      10.1636\n",
       "5  26.jpg  26       9.7124\n",
       "6  27.jpg  27       9.7125\n",
       "7  28.jpg  28       9.8781\n",
       "8  29.jpg  29       9.8802\n",
       "9  30.jpg  30       9.9806"
      ]
     },
     "execution_count": 19,
     "metadata": {},
     "output_type": "execute_result"
    }
   ],
   "source": [
    "weightsFileName = '/Users/pablo/Documents/Programacion/BlueberriesImageMassDataset/weightsBlueberries.txt'\n",
    "\n",
    "import pandas as pd\n",
    "\n",
    "df = pd.read_csv(weightsFileName, header=None, delim_whitespace=True)\n",
    "\n",
    "df.rename(columns = {0:'Image'}, \n",
    "            inplace = True)\n",
    "\n",
    "df['AverageMass'] = df.apply(calculate_average_mass, axis=1)\n",
    "\n",
    "df['Image'] = df.apply(rename_image, axis=1)\n",
    "\n",
    "df['ID'] = df.apply(get_index, axis=1)\n",
    "\n",
    "mass = pd.DataFrame().assign(Image=df['Image'], ID=df['ID'], \n",
    "                 \n",
    "                            AverageMass=df['AverageMass'])\n",
    "mass['ID'] = mass['ID'].astype(int)\n",
    "mass['AverageMass'] = mass['AverageMass'].astype(float)\n",
    "#mass.to_json('massBlues.json', orient = 'split', compression = 'infer', index = 'true')\n",
    "mass.head(10)\n",
    "#latex_table = mass.head(10).to_latex(index=False, bold_rows=True, caption=\"Table of image Weighs and Average Mass\")\n",
    "\n",
    "#print(latex_table)\n",
    "\n"
   ]
  },
  {
   "cell_type": "code",
   "execution_count": 36,
   "metadata": {},
   "outputs": [
    {
     "name": "stdout",
     "output_type": "stream",
     "text": [
      "{21: 10.2444, 22: 10.2427, 23: 10.2425, 24: 10.1629, 25: 10.1636, 26: 9.7124, 27: 9.7125, 28: 9.8781, 29: 9.8802, 30: 9.9806, 31: 9.9795, 32: 9.1594, 33: 9.1617, 34: 10.8762, 35: 10.8735, 36: 10.8766, 37: 9.9834, 38: 9.9846, 39: 9.9304, 40: 9.9257, 41: 9.6898, 42: 9.6972, 43: 9.7016, 44: 11.9737, 45: 11.9794, 46: 8.7405, 47: 8.7423, 48: 9.1772, 49: 9.1813, 50: 9.4972, 51: 9.495, 52: 11.0753, 53: 11.0766, 54: 10.27, 55: 10.2695, 56: 11.5706, 57: 11.5745, 59: 8.7329, 60: 8.7356, 61: 10.2567, 62: 10.2568, 63: 10.213, 64: 10.2143, 65: 12.3145, 66: 12.3159, 67: 8.9281, 68: 8.9272, 70: 9.6905, 71: 9.6184, 72: 9.6184, 73: 10.6453, 74: 10.6412, 75: 8.8254, 76: 8.8253, 77: 9.9625, 78: 9.962, 79: 9.4596, 80: 9.4601, 81: 9.4612, 82: 10.532, 83: 10.5355, 84: 9.6529, 85: 9.6556, 86: 9.8557, 87: 9.8554, 88: 9.2088, 89: 9.2059, 90: 10.187, 91: 10.1867, 92: 10.0272, 93: 10.0269, 94: 9.3013, 95: 9.3014, 96: 11.002, 97: 9.5888, 98: 9.5873, 99: 9.7797, 100: 9.7792, 101: 9.6791, 102: 9.6792, 103: 10.6976, 104: 10.6998, 105: 9.6584, 106: 8.9705, 107: 8.9705, 108: 9.7635, 109: 9.7646, 110: 9.1183, 111: 9.1184, 112: 9.4547, 113: 9.4514, 114: 9.5969, 115: 9.5985, 116: 9.0908, 117: 9.0968, 118: 9.2942, 119: 9.2938, 120: 9.8867, 122: 10.264, 123: 10.0444, 124: 10.0465, 125: 9.1023, 126: 9.098, 127: 8.8791, 128: 8.8784, 129: 9.0121, 130: 9.0096, 131: 9.6864, 132: 9.6849, 133: 9.6861, 134: 9.6689, 135: 9.6704, 136: 9.0985, 137: 9.0997, 138: 11.314, 139: 11.2989, 140: 11.8585, 141: 11.864, 142: 8.5324, 143: 8.54, 144: 9.9429, 145: 9.9417, 146: 9.3176, 147: 9.32, 148: 9.1677, 149: 9.1716, 150: 10.1133, 151: 10.1133, 152: 9.2749, 153: 9.2751, 154: 9.872, 155: 9.8664, 156: 9.5092, 157: 9.5135, 158: 9.2888, 159: 9.2894, 160: 8.755, 161: 9.0771, 162: 9.0749, 163: 8.8379, 164: 8.8402, 165: 8.832, 166: 8.8288, 167: 8.896, 168: 8.8938, 169: 8.5255, 170: 8.5194, 171: 7.764, 172: 8.8415, 173: 8.8419}\n",
      "10.2444\n"
     ]
    }
   ],
   "source": [
    "IDAndMass = {}\n",
    "for i in range(len(mass)):\n",
    "    #print(mass.loc[i].at[\"ID\"])\n",
    "    IDAndMass[mass.loc[i].at[\"ID\"]] = mass.loc[i].at[\"AverageMass\"]\n",
    "\n",
    "print(IDAndMass)\n",
    "\n",
    "print(IDAndMass[21])\n"
   ]
  },
  {
   "cell_type": "code",
   "execution_count": 33,
   "metadata": {},
   "outputs": [],
   "source": [
    "import os\n",
    "import glob\n",
    "import cv2 #if you need to preprocess the images\n",
    "import numpy as np\n",
    "import re\n",
    "from PIL import Image\n",
    "from numpy import asarray\n",
    "\n",
    "# Set the paths to your image and label directories\n",
    "image_dir = \"/Users/pablo/Documents/Programacion/BlueberriesImageMassDataset/Blueberries140/train/images\"\n",
    "regexpattern = r\"testname(\\d+)\"\n",
    "\n",
    "imagesdict = {}\n",
    "\n",
    "for image_file in os.listdir(image_dir):\n",
    "    #print(image_file)\n",
    "    if image_file.endswith(\".jpg\"):\n",
    "        image_path = os.path.join(image_dir, image_file)\n",
    "\n",
    "        #image = cv2.imread(image_path)\n",
    "        image = cv2.imread(image_path)\n",
    "\n",
    "        imageID = re.search(regexpattern, image_file).group(0)[8:]\n",
    "        imagesdict[imageID] = image\n",
    "\n",
    "aux = {int(k):v for k,v in imagesdict.items()}\n",
    "imagesdict = aux\n",
    "\n",
    "#print(imagesdict)\n",
    "\n",
    "\n",
    "idimages = list(imagesdict.keys())\n",
    "idimages.sort()\n",
    "sorted_dict = {i: imagesdict[i] for i in idimages}\n",
    "imagesdict = sorted_dict\n",
    "#print(imagesdict)\n",
    "\n",
    "#imagesdf = pd.DataFrame.from_dict(images, orient='index')\n",
    "#imagesdf.head(3)"
   ]
  },
  {
   "cell_type": "code",
   "execution_count": 42,
   "metadata": {},
   "outputs": [],
   "source": [
    "labels = []\n",
    "images = []\n",
    "\n",
    "idmasskeys = list(IDAndMass.keys())\n",
    "\n",
    "for k in idmasskeys:\n",
    "    if(k in IDAndMass and k in imagesdict):\n",
    "        #print(k)\n",
    "        labels.append(IDAndMass[k])\n",
    "        images.append(imagesdict[k])\n",
    "\n",
    "\n",
    "images = np.array(images)\n",
    "labels = np.array(labels)\n"
   ]
  },
  {
   "cell_type": "code",
   "execution_count": 43,
   "metadata": {},
   "outputs": [],
   "source": [
    "\n",
    "train_size = int(0.8 * len(images))\n",
    "train_images, val_images = images[:train_size], images[train_size:]\n",
    "train_labels, val_labels = labels[:train_size], labels[train_size:]"
   ]
  },
  {
   "cell_type": "code",
   "execution_count": 44,
   "metadata": {},
   "outputs": [
    {
     "name": "stdout",
     "output_type": "stream",
     "text": [
      "Metal device set to: Apple M1\n",
      "\n",
      "systemMemory: 8.00 GB\n",
      "maxCacheSize: 2.67 GB\n",
      "\n"
     ]
    },
    {
     "name": "stderr",
     "output_type": "stream",
     "text": [
      "2023-05-01 03:02:03.577998: I tensorflow/core/common_runtime/pluggable_device/pluggable_device_factory.cc:305] Could not identify NUMA node of platform GPU ID 0, defaulting to 0. Your kernel may not have been built with NUMA support.\n",
      "2023-05-01 03:02:03.578507: I tensorflow/core/common_runtime/pluggable_device/pluggable_device_factory.cc:271] Created TensorFlow device (/job:localhost/replica:0/task:0/device:GPU:0 with 0 MB memory) -> physical PluggableDevice (device: 0, name: METAL, pci bus id: <undefined>)\n"
     ]
    },
    {
     "name": "stdout",
     "output_type": "stream",
     "text": [
      "Epoch 1/10\n"
     ]
    },
    {
     "name": "stderr",
     "output_type": "stream",
     "text": [
      "2023-05-01 03:02:04.536030: W tensorflow/core/platform/profile_utils/cpu_utils.cc:128] Failed to get CPU frequency: 0 Hz\n",
      "2023-05-01 03:02:04.811803: I tensorflow/core/grappler/optimizers/custom_graph_optimizer_registry.cc:113] Plugin optimizer for device_type GPU is enabled.\n"
     ]
    },
    {
     "name": "stdout",
     "output_type": "stream",
     "text": [
      "4/4 [==============================] - ETA: 0s - loss: 4135835.2500"
     ]
    },
    {
     "name": "stderr",
     "output_type": "stream",
     "text": [
      "2023-05-01 03:02:18.974895: I tensorflow/core/grappler/optimizers/custom_graph_optimizer_registry.cc:113] Plugin optimizer for device_type GPU is enabled.\n"
     ]
    },
    {
     "name": "stdout",
     "output_type": "stream",
     "text": [
      "4/4 [==============================] - 15s 3s/step - loss: 4135835.2500 - val_loss: 304705.3438\n",
      "Epoch 2/10\n",
      "4/4 [==============================] - 8s 2s/step - loss: 148838.2188 - val_loss: 27310.3242\n",
      "Epoch 3/10\n",
      "4/4 [==============================] - 6s 2s/step - loss: 14490.4160 - val_loss: 895.0084\n",
      "Epoch 4/10\n",
      "4/4 [==============================] - 10s 3s/step - loss: 2639.6228 - val_loss: 59.0020\n",
      "Epoch 5/10\n",
      "4/4 [==============================] - 7s 2s/step - loss: 495.8028 - val_loss: 178.1532\n",
      "Epoch 6/10\n",
      "4/4 [==============================] - 10s 3s/step - loss: 84.8290 - val_loss: 173.5659\n",
      "Epoch 7/10\n",
      "4/4 [==============================] - 8s 2s/step - loss: 188.2445 - val_loss: 27.2227\n",
      "Epoch 8/10\n",
      "4/4 [==============================] - 6s 2s/step - loss: 24.0729 - val_loss: 74.3879\n",
      "Epoch 9/10\n",
      "4/4 [==============================] - 10s 2s/step - loss: 66.2118 - val_loss: 27.3760\n",
      "Epoch 10/10\n",
      "4/4 [==============================] - 8s 2s/step - loss: 9.2923 - val_loss: 8.6391\n"
     ]
    },
    {
     "data": {
      "text/plain": [
       "<keras.callbacks.History at 0x2942a89d0>"
      ]
     },
     "execution_count": 44,
     "metadata": {},
     "output_type": "execute_result"
    }
   ],
   "source": [
    "import tensorflow as tf\n",
    "from tensorflow import keras\n",
    "from tensorflow.keras import layers\n",
    "\n",
    "\n",
    "train_images = train_images / 255.0\n",
    "\n",
    "model = keras.Sequential([\n",
    "    layers.Conv2D(32, kernel_size=(3, 3), activation='relu', input_shape=(512, 512, 3)),\n",
    "    layers.MaxPooling2D(pool_size=(2, 2)),\n",
    "    layers.Conv2D(64, kernel_size=(3, 3), activation='relu'),\n",
    "    layers.MaxPooling2D(pool_size=(2, 2)),\n",
    "    layers.Conv2D(128, kernel_size=(3, 3), activation='relu'),\n",
    "    layers.MaxPooling2D(pool_size=(2, 2)),\n",
    "    layers.Flatten(),\n",
    "    layers.Dense(1)\n",
    "])\n",
    "\n",
    "\n",
    "model.compile(loss='mse', optimizer='adam')\n",
    "\n",
    "model.fit(images, labels, batch_size=32, epochs=10, validation_split=0.2)\n",
    "\n",
    "\n"
   ]
  }
 ],
 "metadata": {
  "kernelspec": {
   "display_name": "Python 3",
   "language": "python",
   "name": "python3"
  },
  "language_info": {
   "codemirror_mode": {
    "name": "ipython",
    "version": 3
   },
   "file_extension": ".py",
   "mimetype": "text/x-python",
   "name": "python",
   "nbconvert_exporter": "python",
   "pygments_lexer": "ipython3",
   "version": "3.9.6"
  },
  "orig_nbformat": 4
 },
 "nbformat": 4,
 "nbformat_minor": 2
}
